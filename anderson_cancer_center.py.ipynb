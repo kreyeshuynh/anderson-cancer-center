{
 "cells": [
  {
   "cell_type": "markdown",
   "id": "298f6f11",
   "metadata": {},
   "source": [
    "# Anderson Cancer Center Data: Linear Regression"
   ]
  },
  {
   "cell_type": "code",
   "execution_count": 1,
   "id": "b72de982",
   "metadata": {},
   "outputs": [
    {
     "data": {
      "text/html": [
       "<div>\n",
       "<style scoped>\n",
       "    .dataframe tbody tr th:only-of-type {\n",
       "        vertical-align: middle;\n",
       "    }\n",
       "\n",
       "    .dataframe tbody tr th {\n",
       "        vertical-align: top;\n",
       "    }\n",
       "\n",
       "    .dataframe thead th {\n",
       "        text-align: right;\n",
       "    }\n",
       "</style>\n",
       "<table border=\"1\" class=\"dataframe\">\n",
       "  <thead>\n",
       "    <tr style=\"text-align: right;\">\n",
       "      <th></th>\n",
       "      <th>#Patient_id</th>\n",
       "      <th>SEX</th>\n",
       "      <th>Age.at.Dx</th>\n",
       "      <th>AHD</th>\n",
       "      <th>PRIOR.MAL</th>\n",
       "      <th>PRIOR.CHEMO</th>\n",
       "      <th>PRIOR.XRT</th>\n",
       "      <th>Infection</th>\n",
       "      <th>cyto.cat</th>\n",
       "      <th>ITD</th>\n",
       "      <th>...</th>\n",
       "      <th>VHL</th>\n",
       "      <th>WTAP</th>\n",
       "      <th>XIAP</th>\n",
       "      <th>XPO1</th>\n",
       "      <th>YAP1</th>\n",
       "      <th>YAP1p</th>\n",
       "      <th>YWHAE</th>\n",
       "      <th>YWHAZ</th>\n",
       "      <th>ZNF296</th>\n",
       "      <th>ZNF346</th>\n",
       "    </tr>\n",
       "  </thead>\n",
       "  <tbody>\n",
       "    <tr>\n",
       "      <th>0</th>\n",
       "      <td>train_id_001</td>\n",
       "      <td>F</td>\n",
       "      <td>63.85</td>\n",
       "      <td>0</td>\n",
       "      <td>YES</td>\n",
       "      <td>NO</td>\n",
       "      <td>YES</td>\n",
       "      <td>No</td>\n",
       "      <td>diploid</td>\n",
       "      <td>NEG</td>\n",
       "      <td>...</td>\n",
       "      <td>-0.722347</td>\n",
       "      <td>-0.887311</td>\n",
       "      <td>1.140104</td>\n",
       "      <td>-0.199574</td>\n",
       "      <td>-0.598099</td>\n",
       "      <td>-1.086189</td>\n",
       "      <td>-1.182815</td>\n",
       "      <td>0.336552</td>\n",
       "      <td>-0.291540</td>\n",
       "      <td>-0.156785</td>\n",
       "    </tr>\n",
       "    <tr>\n",
       "      <th>1</th>\n",
       "      <td>train_id_002</td>\n",
       "      <td>F</td>\n",
       "      <td>57.45</td>\n",
       "      <td>24</td>\n",
       "      <td>NO</td>\n",
       "      <td>NO</td>\n",
       "      <td>NO</td>\n",
       "      <td>Yes</td>\n",
       "      <td>diploid</td>\n",
       "      <td>NEG</td>\n",
       "      <td>...</td>\n",
       "      <td>-0.401240</td>\n",
       "      <td>0.228719</td>\n",
       "      <td>2.025590</td>\n",
       "      <td>-0.268515</td>\n",
       "      <td>0.035639</td>\n",
       "      <td>-0.498447</td>\n",
       "      <td>-0.391924</td>\n",
       "      <td>-0.654588</td>\n",
       "      <td>0.110702</td>\n",
       "      <td>1.260718</td>\n",
       "    </tr>\n",
       "    <tr>\n",
       "      <th>2</th>\n",
       "      <td>train_id_003</td>\n",
       "      <td>F</td>\n",
       "      <td>59.49</td>\n",
       "      <td>5</td>\n",
       "      <td>YES</td>\n",
       "      <td>YES</td>\n",
       "      <td>YES</td>\n",
       "      <td>No</td>\n",
       "      <td>-5</td>\n",
       "      <td>NEG</td>\n",
       "      <td>...</td>\n",
       "      <td>0.322115</td>\n",
       "      <td>0.578631</td>\n",
       "      <td>-1.918884</td>\n",
       "      <td>-1.485057</td>\n",
       "      <td>-0.214276</td>\n",
       "      <td>-0.115862</td>\n",
       "      <td>0.503870</td>\n",
       "      <td>-0.263103</td>\n",
       "      <td>-0.500761</td>\n",
       "      <td>0.147560</td>\n",
       "    </tr>\n",
       "    <tr>\n",
       "      <th>3</th>\n",
       "      <td>train_id_004</td>\n",
       "      <td>M</td>\n",
       "      <td>46.38</td>\n",
       "      <td>0</td>\n",
       "      <td>NO</td>\n",
       "      <td>NO</td>\n",
       "      <td>NO</td>\n",
       "      <td>Yes</td>\n",
       "      <td>IM</td>\n",
       "      <td>ND</td>\n",
       "      <td>...</td>\n",
       "      <td>0.460794</td>\n",
       "      <td>-0.724971</td>\n",
       "      <td>2.274829</td>\n",
       "      <td>0.837169</td>\n",
       "      <td>-0.240740</td>\n",
       "      <td>-0.788800</td>\n",
       "      <td>-0.986515</td>\n",
       "      <td>-0.510208</td>\n",
       "      <td>0.910813</td>\n",
       "      <td>-0.303119</td>\n",
       "    </tr>\n",
       "    <tr>\n",
       "      <th>4</th>\n",
       "      <td>train_id_005</td>\n",
       "      <td>M</td>\n",
       "      <td>66.95</td>\n",
       "      <td>0</td>\n",
       "      <td>YES</td>\n",
       "      <td>NO</td>\n",
       "      <td>NO</td>\n",
       "      <td>No</td>\n",
       "      <td>Misc</td>\n",
       "      <td>NEG</td>\n",
       "      <td>...</td>\n",
       "      <td>-0.330346</td>\n",
       "      <td>-1.460989</td>\n",
       "      <td>0.004068</td>\n",
       "      <td>-1.152868</td>\n",
       "      <td>0.450986</td>\n",
       "      <td>0.753539</td>\n",
       "      <td>0.011574</td>\n",
       "      <td>-0.973533</td>\n",
       "      <td>-0.599299</td>\n",
       "      <td>0.459281</td>\n",
       "    </tr>\n",
       "  </tbody>\n",
       "</table>\n",
       "<p>5 rows × 272 columns</p>\n",
       "</div>"
      ],
      "text/plain": [
       "    #Patient_id SEX  Age.at.Dx  AHD PRIOR.MAL PRIOR.CHEMO PRIOR.XRT Infection  \\\n",
       "0  train_id_001   F      63.85    0       YES          NO       YES        No   \n",
       "1  train_id_002   F      57.45   24        NO          NO        NO       Yes   \n",
       "2  train_id_003   F      59.49    5       YES         YES       YES        No   \n",
       "3  train_id_004   M      46.38    0        NO          NO        NO       Yes   \n",
       "4  train_id_005   M      66.95    0       YES          NO        NO        No   \n",
       "\n",
       "  cyto.cat  ITD  ...       VHL      WTAP      XIAP      XPO1      YAP1  \\\n",
       "0  diploid  NEG  ... -0.722347 -0.887311  1.140104 -0.199574 -0.598099   \n",
       "1  diploid  NEG  ... -0.401240  0.228719  2.025590 -0.268515  0.035639   \n",
       "2       -5  NEG  ...  0.322115  0.578631 -1.918884 -1.485057 -0.214276   \n",
       "3       IM   ND  ...  0.460794 -0.724971  2.274829  0.837169 -0.240740   \n",
       "4     Misc  NEG  ... -0.330346 -1.460989  0.004068 -1.152868  0.450986   \n",
       "\n",
       "      YAP1p     YWHAE     YWHAZ    ZNF296    ZNF346  \n",
       "0 -1.086189 -1.182815  0.336552 -0.291540 -0.156785  \n",
       "1 -0.498447 -0.391924 -0.654588  0.110702  1.260718  \n",
       "2 -0.115862  0.503870 -0.263103 -0.500761  0.147560  \n",
       "3 -0.788800 -0.986515 -0.510208  0.910813 -0.303119  \n",
       "4  0.753539  0.011574 -0.973533 -0.599299  0.459281  \n",
       "\n",
       "[5 rows x 272 columns]"
      ]
     },
     "execution_count": 1,
     "metadata": {},
     "output_type": "execute_result"
    }
   ],
   "source": [
    "import pandas as pd\n",
    "import numpy as np\n",
    "\n",
    "# Load the dataset\n",
    "data = pd.read_csv('trainingData-release.csv')\n",
    "\n",
    "data_top = data.head()\n",
    "\n",
    "data.head()"
   ]
  },
  {
   "cell_type": "code",
   "execution_count": 2,
   "id": "12d34a92",
   "metadata": {},
   "outputs": [
    {
     "name": "stdout",
     "output_type": "stream",
     "text": [
      "0      568.57\n",
      "1      185.86\n",
      "2       56.29\n",
      "3       98.14\n",
      "4      454.71\n",
      "        ...  \n",
      "186     42.00\n",
      "187     27.43\n",
      "188    479.14\n",
      "189     77.86\n",
      "190     36.14\n",
      "Name: Overall_Survival, Length: 191, dtype: float64\n"
     ]
    }
   ],
   "source": [
    "# Select the relevant columns\n",
    "X = data.drop(['#Patient_id', 'Overall_Survival'], axis=1)\n",
    "y = data['Overall_Survival']\n",
    "\n",
    "print(y)"
   ]
  },
  {
   "cell_type": "code",
   "execution_count": 3,
   "id": "b0c9f5aa",
   "metadata": {},
   "outputs": [],
   "source": [
    "import pandas as pd\n",
    "import numpy as np\n",
    "import matplotlib.pyplot as plt\n",
    "import seaborn as sns\n",
    "\n",
    "from sklearn.linear_model import LinearRegression\n",
    "from sklearn.metrics import r2_score, mean_squared_error\n",
    "from sklearn.model_selection import train_test_split\n"
   ]
  },
  {
   "cell_type": "code",
   "execution_count": 4,
   "id": "f9ee1848",
   "metadata": {},
   "outputs": [
    {
     "data": {
      "text/plain": [
       "#Patient_id     object\n",
       "SEX             object\n",
       "Age.at.Dx      float64\n",
       "AHD              int64\n",
       "PRIOR.MAL       object\n",
       "                ...   \n",
       "YAP1p          float64\n",
       "YWHAE          float64\n",
       "YWHAZ          float64\n",
       "ZNF296         float64\n",
       "ZNF346         float64\n",
       "Length: 272, dtype: object"
      ]
     },
     "execution_count": 4,
     "metadata": {},
     "output_type": "execute_result"
    }
   ],
   "source": [
    "# display the first 5 rows of the data\n",
    "data.head()\n",
    "\n",
    "# display the shape of the data\n",
    "data.shape\n",
    "\n",
    "# display the summary statistics of the data\n",
    "data.describe()\n",
    "\n",
    "# display the data types of the columns\n",
    "data.dtypes"
   ]
  },
  {
   "cell_type": "code",
   "execution_count": 5,
   "id": "bf863703",
   "metadata": {},
   "outputs": [
    {
     "data": {
      "text/plain": [
       "#Patient_id    0\n",
       "SEX            0\n",
       "Age.at.Dx      0\n",
       "AHD            0\n",
       "PRIOR.MAL      0\n",
       "              ..\n",
       "YAP1p          0\n",
       "YWHAE          0\n",
       "YWHAZ          0\n",
       "ZNF296         0\n",
       "ZNF346         0\n",
       "Length: 272, dtype: int64"
      ]
     },
     "execution_count": 5,
     "metadata": {},
     "output_type": "execute_result"
    }
   ],
   "source": [
    "data.isnull().sum()"
   ]
  },
  {
   "cell_type": "code",
   "execution_count": 6,
   "id": "86b28347",
   "metadata": {},
   "outputs": [
    {
     "name": "stderr",
     "output_type": "stream",
     "text": [
      "C:\\Users\\tacos\\AppData\\Local\\Temp\\ipykernel_16068\\3586194961.py:10: FutureWarning: Dropping of nuisance columns in DataFrame reductions (with 'numeric_only=None') is deprecated; in a future version this will raise TypeError.  Select only valid columns before calling the reduction.\n",
      "  X = (X - X.mean()) / X.std()\n"
     ]
    }
   ],
   "source": [
    "# drop rows with missing values from numeric columns only\n",
    "numeric_cols = data.select_dtypes(include=\"number\").columns\n",
    "data = data.dropna(subset=numeric_cols)\n",
    "\n",
    "# separate the target variable from the features\n",
    "X = data.drop(\"Overall_Survival\", axis=1)\n",
    "y = data[\"Overall_Survival\"]\n",
    "\n",
    "# scale the data using the z-score normalization\n",
    "X = (X - X.mean()) / X.std()\n"
   ]
  },
  {
   "cell_type": "code",
   "execution_count": 7,
   "id": "06bcf3ba",
   "metadata": {},
   "outputs": [],
   "source": [
    "from sklearn.impute import SimpleImputer\n",
    "\n",
    "# create an instance of the SimpleImputer class to impute missing values\n",
    "imputer = SimpleImputer()\n",
    "\n",
    "# preprocess the data by imputing missing values and scaling the features\n",
    "X = imputer.fit_transform(X)\n",
    "X = (X - X.mean()) / X.std()\n",
    "\n",
    "# split the data into training and testing sets\n",
    "X_train, X_test, y_train, y_test = train_test_split(X, y, test_size=0.2, random_state=42)\n",
    "\n",
    "# create an instance of the linear regression model\n",
    "model = LinearRegression()\n",
    "\n",
    "# fit the model to the training data\n",
    "model.fit(X_train, y_train)\n",
    "\n",
    "# make predictions on the test data\n",
    "y_pred = model.predict(X_test)\n"
   ]
  },
  {
   "cell_type": "code",
   "execution_count": 8,
   "id": "eb4eb88c",
   "metadata": {},
   "outputs": [
    {
     "name": "stdout",
     "output_type": "stream",
     "text": [
      "R-squared: 0.5228366324503757\n",
      "MSE: 19411.431178821444\n"
     ]
    }
   ],
   "source": [
    "# calculate R-squared\n",
    "r2 = r2_score(y_test, y_pred)\n",
    "print(\"R-squared:\", r2)\n",
    "\n",
    "# calculate MSE\n",
    "mse = mean_squared_error(y_test, y_pred)\n",
    "print(\"MSE:\", mse)"
   ]
  },
  {
   "cell_type": "code",
   "execution_count": 9,
   "id": "44fb9817",
   "metadata": {},
   "outputs": [
    {
     "data": {
      "image/png": "[encoded data removed]",
      "text/plain": [
       "<Figure size 432x288 with 1 Axes>"
      ]
     },
     "metadata": {
      "needs_background": "light"
     },
     "output_type": "display_data"
    }
   ],
   "source": [
    "# create a scatter plot of predicted vs. actual values\n",
    "plt.scatter(y_test, y_pred, alpha=0.5)\n",
    "plt.plot(np.linspace(0, 50, 100), np.linspace(0, 50, 100), color='green')\n",
    "plt.plot(np.unique(y_test), np.poly1d(np.polyfit(y_test, y_pred, 1))(np.unique(y_test)), color='red')\n",
    "plt.xlabel(\"Actual values\")\n",
    "plt.ylabel(\"Predicted values\")\n",
    "plt.title(\"Predicted vs. actual values\")\n",
    "plt.show()"
   ]
  },
  {
   "cell_type": "markdown",
   "id": "8921ad28",
   "metadata": {},
   "source": [
    "### Improving the model"
   ]
  },
  {
   "cell_type": "code",
   "execution_count": null,
   "id": "a953769e",
   "metadata": {},
   "outputs": [],
   "source": []
  },
  {
   "cell_type": "code",
   "execution_count": null,
   "id": "ea31ad7e",
   "metadata": {},
   "outputs": [],
   "source": []
  },
  {
   "cell_type": "code",
   "execution_count": null,
   "id": "bc691cda",
   "metadata": {},
   "outputs": [],
   "source": []
  }
 ],
 "metadata": {
  "kernelspec": {
   "display_name": "Python 3 (ipykernel)",
   "language": "python",
   "name": "python3"
  },
  "language_info": {
   "codemirror_mode": {
    "name": "ipython",
    "version": 3
   },
   "file_extension": ".py",
   "mimetype": "text/x-python",
   "name": "python",
   "nbconvert_exporter": "python",
   "pygments_lexer": "ipython3",
   "version": "3.9.7"
  }
 },
 "nbformat": 4,
 "nbformat_minor": 5
}
